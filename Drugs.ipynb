{
 "cells": [
  {
   "cell_type": "markdown",
   "metadata": {},
   "source": [
    "[RDKit](http://www.rdkit.org/) package is used for processing chemical structure. [Tutorial](http://www.rdkit.org/docs/GettingStartedInPython.html)\n",
    "\n",
    "Installation: follow this [link](https://anaconda.org/rdkit/rdkit).\n",
    "\n",
    "        conda install -c rdkit rdkit\n"
   ]
  },
  {
   "cell_type": "code",
   "execution_count": 1,
   "metadata": {},
   "outputs": [
    {
     "data": {
      "text/html": [
       "<div>\n",
       "<style scoped>\n",
       "    .dataframe tbody tr th:only-of-type {\n",
       "        vertical-align: middle;\n",
       "    }\n",
       "\n",
       "    .dataframe tbody tr th {\n",
       "        vertical-align: top;\n",
       "    }\n",
       "\n",
       "    .dataframe thead th {\n",
       "        text-align: right;\n",
       "    }\n",
       "</style>\n",
       "<table border=\"1\" class=\"dataframe\">\n",
       "  <thead>\n",
       "    <tr style=\"text-align: right;\">\n",
       "      <th></th>\n",
       "      <th>Drug Name</th>\n",
       "      <th>SMILES</th>\n",
       "    </tr>\n",
       "  </thead>\n",
       "  <tbody>\n",
       "    <tr>\n",
       "      <th>0</th>\n",
       "      <td>Aspirin</td>\n",
       "      <td>O=C(C1=C(OC(C)=O)C=CC=C1)O</td>\n",
       "    </tr>\n",
       "    <tr>\n",
       "      <th>1</th>\n",
       "      <td>Morphine</td>\n",
       "      <td>OC1=C2O[C@@H]3[C@]45C2=C(C=C1)C[C@@H](N(CC5)C)...</td>\n",
       "    </tr>\n",
       "    <tr>\n",
       "      <th>2</th>\n",
       "      <td>apixaban</td>\n",
       "      <td>COC1=CC=C(N2N=C(C3=C2C(N(C4=CC=C(N5CCCCC5=O)C=...</td>\n",
       "    </tr>\n",
       "    <tr>\n",
       "      <th>3</th>\n",
       "      <td>lenalidomide</td>\n",
       "      <td>NC1=CC=CC2=C1CN(C2=O)C3CCC(NC3=O)=O</td>\n",
       "    </tr>\n",
       "    <tr>\n",
       "      <th>4</th>\n",
       "      <td>rivaroxaban</td>\n",
       "      <td>ClC1=CC=C(C(NC[C@H]2CN(C3=CC=C(N4CCOCC4=O)C=C3...</td>\n",
       "    </tr>\n",
       "  </tbody>\n",
       "</table>\n",
       "</div>"
      ],
      "text/plain": [
       "      Drug Name                                             SMILES\n",
       "0       Aspirin                         O=C(C1=C(OC(C)=O)C=CC=C1)O\n",
       "1      Morphine  OC1=C2O[C@@H]3[C@]45C2=C(C=C1)C[C@@H](N(CC5)C)...\n",
       "2      apixaban  COC1=CC=C(N2N=C(C3=C2C(N(C4=CC=C(N5CCCCC5=O)C=...\n",
       "3  lenalidomide                NC1=CC=CC2=C1CN(C2=O)C3CCC(NC3=O)=O\n",
       "4   rivaroxaban  ClC1=CC=C(C(NC[C@H]2CN(C3=CC=C(N4CCOCC4=O)C=C3..."
      ]
     },
     "execution_count": 1,
     "metadata": {},
     "output_type": "execute_result"
    }
   ],
   "source": [
    "# import libraries\n",
    "import os\n",
    "import pandas as pd\n",
    "from rdkit import Chem\n",
    "\n",
    "# read in the excel file and display the head\n",
    "file = 'Drugs_nostructure.csv'\n",
    "drugs = pd.read_csv(file)\n",
    "drugs.head()"
   ]
  },
  {
   "cell_type": "code",
   "execution_count": 2,
   "metadata": {},
   "outputs": [
    {
     "name": "stdout",
     "output_type": "stream",
     "text": [
      "Aspirin structure:\n"
     ]
    },
    {
     "data": {
      "image/png": "[encoded data removed]",
      "text/plain": [
       "<rdkit.Chem.rdchem.Mol at 0x26e29f9af30>"
      ]
     },
     "execution_count": 2,
     "metadata": {},
     "output_type": "execute_result"
    }
   ],
   "source": [
    "# Use Chem module from rdkit to read the SMILES string and display the structure\n",
    "molecule = Chem.MolFromSmiles('O=C(C1=C(OC(C)=O)C=CC=C1)O')\n",
    "print('Aspirin structure:')\n",
    "molecule"
   ]
  },
  {
   "cell_type": "code",
   "execution_count": 3,
   "metadata": {},
   "outputs": [],
   "source": [
    "# set up directories for SMILES and mol files\n",
    "smiles_dir = './smiles'\n",
    "mol_dir = './mol'\n",
    "\n",
    "# make the directories if not exist\n",
    "if not os.path.exists(smiles_dir):\n",
    "    os.makedirs(smiles_dir)\n",
    "    \n",
    "if not os.path.exists(mol_dir):\n",
    "    os.makedirs(mol_dir)"
   ]
  },
  {
   "cell_type": "code",
   "execution_count": 4,
   "metadata": {
    "scrolled": true
   },
   "outputs": [
    {
     "name": "stdout",
     "output_type": "stream",
     "text": [
      "\n",
      "\u001b[1mAspirin\u001b[0m:\n",
      "\tSMILES file saved in ./smiles\n",
      "\tMOL file saved in ./mol\n",
      "\n",
      "\u001b[1mMorphine\u001b[0m:\n",
      "\tSMILES file saved in ./smiles\n",
      "\tMOL file saved in ./mol\n",
      "\n",
      "\u001b[1mapixaban\u001b[0m:\n",
      "\tSMILES file saved in ./smiles\n",
      "\tMOL file saved in ./mol\n",
      "\n",
      "\u001b[1mlenalidomide\u001b[0m:\n",
      "\tSMILES file saved in ./smiles\n",
      "\tMOL file saved in ./mol\n",
      "\n",
      "\u001b[1mrivaroxaban\u001b[0m:\n",
      "\tSMILES file saved in ./smiles\n",
      "\tMOL file saved in ./mol\n",
      "\n",
      "\u001b[1mIbuprofen\u001b[0m:\n",
      "\tSMILES file saved in ./smiles\n",
      "\tMOL file saved in ./mol\n",
      "\n",
      "\u001b[1mpropranolol\u001b[0m:\n",
      "\tSMILES file saved in ./smiles\n",
      "\tMOL file saved in ./mol\n",
      "\n",
      "\u001b[1mNicotine\u001b[0m:\n",
      "\tSMILES file saved in ./smiles\n",
      "\tMOL file saved in ./mol\n",
      "\n",
      "\u001b[1mFentanyl\u001b[0m:\n",
      "\tSMILES file saved in ./smiles\n",
      "\tMOL file saved in ./mol\n"
     ]
    }
   ],
   "source": [
    "# iterate through the whole csv file\n",
    "\n",
    "for i in range(drugs.shape[0]):\n",
    "    \n",
    "    # get the drug name\n",
    "    drug = drugs.loc[i, 'Drug Name']\n",
    "    print(f'\\n\\033[1m{drug}\\033[0m:')\n",
    "    \n",
    "    # get the SMILES string\n",
    "    smiles = drugs.loc[i, 'SMILES']\n",
    "    \n",
    "    # configure the filename and path\n",
    "    smiles_file = drug + '.smi'\n",
    "    smiles_path = os.path.join(smiles_dir, smiles_file)   \n",
    "\n",
    "    # write the SMILES string as a file\n",
    "    try:             \n",
    "        f = open(smiles_path, \"w\")\n",
    "        f.write(smiles)\n",
    "        f.close         \n",
    "        print(f'\\tSMILES file saved in {smiles_dir}')\n",
    "    except:\n",
    "        print(f'\\tSMILES file failed.')\n",
    "        pass\n",
    "           \n",
    "    # configure the filename and path\n",
    "    mol_file = drug + '.mol'\n",
    "    mol_path = os.path.join(mol_dir, mol_file)   \n",
    "\n",
    "    mol = Chem.MolFromSmiles(smiles)\n",
    "    w = Chem.SDWriter(mol_path)\n",
    "        \n",
    "    try:             \n",
    "        w.write(mol)\n",
    "        print(f'\\tMOL file saved in {mol_dir}')\n",
    "    except:    \n",
    "        print(f'\\tMOL file failed.')\n",
    "        pass\n",
    "    "
   ]
  },
  {
   "cell_type": "code",
   "execution_count": 5,
   "metadata": {},
   "outputs": [
    {
     "name": "stdout",
     "output_type": "stream",
     "text": [
      "Fentanyl structure:\n"
     ]
    },
    {
     "data": {
      "image/png": "[encoded data removed]",
      "text/plain": [
       "<rdkit.Chem.rdchem.Mol at 0x26e29c70030>"
      ]
     },
     "execution_count": 5,
     "metadata": {},
     "output_type": "execute_result"
    }
   ],
   "source": [
    "# Use Chem module from rdkit to read the SMILES string and display the structure\n",
    "molecule = Chem.MolFromSmiles('CCC(N(C1=CC=CC=C1)C2CCN(CC2)CCC3=CC=CC=C3)=O')\n",
    "print('Fentanyl structure:')\n",
    "molecule"
   ]
  }
 ],
 "metadata": {
  "kernelspec": {
   "display_name": "Python 3",
   "language": "python",
   "name": "python3"
  },
  "language_info": {
   "codemirror_mode": {
    "name": "ipython",
    "version": 3
   },
   "file_extension": ".py",
   "mimetype": "text/x-python",
   "name": "python",
   "nbconvert_exporter": "python",
   "pygments_lexer": "ipython3",
   "version": "3.7.6"
  }
 },
 "nbformat": 4,
 "nbformat_minor": 4
}
